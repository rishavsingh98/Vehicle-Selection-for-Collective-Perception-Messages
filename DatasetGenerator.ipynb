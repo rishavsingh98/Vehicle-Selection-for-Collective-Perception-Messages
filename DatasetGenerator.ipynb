{
 "cells": [
  {
   "cell_type": "code",
   "execution_count": 1,
   "id": "bbd69149",
   "metadata": {},
   "outputs": [],
   "source": [
    "import random\n",
    "import math\n",
    "import json\n",
    "\n",
    "vechicleObj = {\n",
    "    \"vehicle\": {\"Id\": \"\", \"x_coordinate\": \"\", \"y_coordinate\": \"\", \"radius\": \"\"},\n",
    "    \"Object\": [],\n",
    "}"
   ]
  },
  {
   "cell_type": "code",
   "execution_count": 1,
   "id": "840b84a9",
   "metadata": {},
   "outputs": [],
   "source": [
    "objects = {}\n",
    "\n",
    "nVehicles, nObjects = 6, 15\n",
    "Xmin, Xmax = -200, 150\n",
    "Ymin, Ymax = -100, 100\n",
    "sensorMin, sensorMax = 15, 25\n",
    "typeDict = [\"person\", \"obstruction\"]\n",
    "zoneDict = [\"safe\", \"unsafe\"]\n"
   ]
  },
  {
   "cell_type": "code",
   "execution_count": 3,
   "id": "f0ecceba",
   "metadata": {
    "scrolled": true
   },
   "outputs": [],
   "source": [
    "for i in range(nVehicles):\n",
    "    v = vechicleObj\n",
    "\n",
    "    # Vehicle \n",
    "    v[\"vehicle\"][\"Id\"] = \"v\" + str(i)\n",
    "    v[\"vehicle\"][\"x_coordinate\"] = random.randint(Xmin, Xmax)\n",
    "    v[\"vehicle\"][\"y_coordinate\"] = random.randint(Ymin, Ymax)\n",
    "    v[\"vehicle\"][\"radius\"] = random.randint(sensorMin, sensorMax)\n",
    "\n",
    "    numObjects = random.randint(3,5)\n",
    "\n",
    "    foundObjects = []\n",
    "\n",
    "    for j in range(numObjects):\n",
    "\n",
    "        # Adding Objects for Vehicle\n",
    "        objectnum = \"o\" + str(random.randint(0, nObjects))\n",
    "\n",
    "        if objectnum in objects:\n",
    "            objectdetails = objects[objectnum]\n",
    "        \n",
    "        else:\n",
    "            #Generating Objects\n",
    "            objectdetails = {}\n",
    "\n",
    "            objectdetails[\"Id\"] = objectnum\n",
    "            \n",
    "            xcood, ycood = 10000000, 1000000\n",
    "            \n",
    "            vx = v[\"vehicle\"][\"x_coordinate\"]\n",
    "            vy = v[\"vehicle\"][\"y_coordinate\"]\n",
    "            vr = v[\"vehicle\"][\"radius\"]\n",
    "            \n",
    "            while ((math.sqrt((xcood - vx)**2 + (ycood - vy)**2) > vr)):\n",
    "                xcood = random.randint(vx - vr, vx + vr)\n",
    "                ycood = random.randint(vy - vr, vy + vr)\n",
    "            \n",
    "            objectdetails[\"x_coordinate\"] = xcood\n",
    "            objectdetails[\"y_coordinate\"] = ycood\n",
    "            objectdetails[\"timestamp\"] = random.randint(5, 30)\n",
    "            objectdetails[\"type\"] = typeDict[random.randint(0,1)]\n",
    "            objectdetails[\"zone\"] = zoneDict[random.randint(0,1)]\n",
    "            objects[objectnum] = objectdetails\n",
    "\n",
    "        foundObjects.append(objectdetails)\n",
    "\n",
    "    v[\"Object\"] = foundObjects\n",
    "\n",
    "    filename = \"Dataset5/\"+ v[\"vehicle\"][\"Id\"] + \"config.json\"\n",
    "\n",
    "    with open(filename, \"w\") as outfile:\n",
    "        json.dump(v, outfile)\n"
   ]
  },
  {
   "cell_type": "code",
   "execution_count": 9,
   "id": "52f83bd3",
   "metadata": {},
   "outputs": [
    {
     "data": {
      "image/png": "[encoded data removed]",
      "text/plain": [
       "<Figure size 432x288 with 1 Axes>"
      ]
     },
     "metadata": {
      "needs_background": "light"
     },
     "output_type": "display_data"
    }
   ],
   "source": [
    "import matplotlib.pyplot as plt\n",
    "x = [1, 100, 100]\n",
    "y = [200, 200, 350]\n",
    "plt.plot(x, y, color = \"blue\")\n",
    "x = [150, 150, 250]\n",
    "y = [350, 200, 200]\n",
    "plt.plot(x, y, color = \"blue\")\n",
    "x = [1, 100, 100]\n",
    "y = [150, 150, 0]\n",
    "plt.plot(x, y, color = \"blue\")\n",
    "x = [150, 150, 250]\n",
    "y = [0, 150, 150]\n",
    "plt.plot(x, y, color = \"blue\")\n",
    "plt.show()"
   ]
  },
  {
   "cell_type": "code",
   "execution_count": 10,
   "id": "e2065e6d",
   "metadata": {},
   "outputs": [],
   "source": [
    "#Controlled Generation"
   ]
  },
  {
   "cell_type": "code",
   "execution_count": 7,
   "id": "84725140",
   "metadata": {},
   "outputs": [],
   "source": [
    "import random\n",
    "import math\n",
    "import json\n",
    "objects = {}\n",
    "nVehicles, nObjects = 40, 70\n",
    "Xmin, Xmax = 0, 250\n",
    "Ymin1, Ymax1, Ymin2, Ymax2 = 150, 200, 0, 350\n",
    "sensorMin, sensorMax = 20, 30\n",
    "typeDict = [\"person\", \"obstruction\"]\n",
    "zoneDict = [\"safe\", \"unsafe\"]\n",
    "vechicleObj = {\n",
    "    \"vehicle\": {\"Id\": \"\", \"x_coordinate\": \"\", \"y_coordinate\": \"\", \"radius\": \"\"},\n",
    "    \"Object\": [],\n",
    "}"
   ]
  },
  {
   "cell_type": "code",
   "execution_count": 8,
   "id": "b189db9b",
   "metadata": {},
   "outputs": [],
   "source": [
    "for i in range(nVehicles):\n",
    "    v = vechicleObj\n",
    "    # Vehicle \n",
    "    v[\"vehicle\"][\"Id\"] = \"v\" + str(i)\n",
    "    v[\"vehicle\"][\"x_coordinate\"] = random.randint(Xmin, Xmax)\n",
    "    if v[\"vehicle\"][\"x_coordinate\"] >= 100 and v[\"vehicle\"][\"x_coordinate\"] <= 150:\n",
    "        v[\"vehicle\"][\"y_coordinate\"] = random.randint(Ymin2, Ymax2)\n",
    "    else:\n",
    "        v[\"vehicle\"][\"y_coordinate\"] = random.randint(Ymin1, Ymax1)\n",
    "    v[\"vehicle\"][\"radius\"] = 25\n",
    "    \n",
    "    numObjects = random.randint(2, 8)\n",
    "\n",
    "    foundObjects = []\n",
    "\n",
    "    for j in range(numObjects):\n",
    "\n",
    "        # Adding Objects for Vehicle\n",
    "        objectnum = \"o\" + str(random.randint(0, nObjects-1))\n",
    "\n",
    "        if objectnum in objects:\n",
    "            objectdetails = objects[objectnum]\n",
    "        \n",
    "        else:\n",
    "            #Generating Objects\n",
    "            objectdetails = {}\n",
    "\n",
    "            objectdetails[\"Id\"] = objectnum\n",
    "            \n",
    "            xcood, ycood = 10000000, 1000000\n",
    "            \n",
    "            vx = v[\"vehicle\"][\"x_coordinate\"]\n",
    "            vy = v[\"vehicle\"][\"y_coordinate\"]\n",
    "            vr = v[\"vehicle\"][\"radius\"]\n",
    "            \n",
    "            while ((math.sqrt((xcood - vx)**2 + (ycood - vy)**2) > vr)):\n",
    "                xcood = random.randint(vx - vr, vx + vr)\n",
    "                ycood = random.randint(vy - vr, vy + vr)\n",
    "            \n",
    "            objectdetails[\"x_coordinate\"] = xcood\n",
    "            objectdetails[\"y_coordinate\"] = ycood\n",
    "            objectdetails[\"timestamp\"] = random.randint(5, 30)\n",
    "            objectdetails[\"type\"] = typeDict[random.randint(0,1)]\n",
    "            objectdetails[\"zone\"] = zoneDict[random.randint(0,1)]\n",
    "            objects[objectnum] = objectdetails\n",
    "\n",
    "        foundObjects.append(objectdetails)\n",
    "\n",
    "    v[\"Object\"] = foundObjects\n",
    "\n",
    "    filename = \"4way/\"+ v[\"vehicle\"][\"Id\"] + \"config.json\"\n",
    "\n",
    "    with open(filename, \"w\") as outfile:\n",
    "        json.dump(v, outfile)"
   ]
  },
  {
   "cell_type": "code",
   "execution_count": null,
   "id": "af03a755",
   "metadata": {},
   "outputs": [],
   "source": []
  }
 ],
 "metadata": {
  "kernelspec": {
   "display_name": "Python 3",
   "language": "python",
   "name": "python3"
  },
  "language_info": {
   "codemirror_mode": {
    "name": "ipython",
    "version": 3
   },
   "file_extension": ".py",
   "mimetype": "text/x-python",
   "name": "python",
   "nbconvert_exporter": "python",
   "pygments_lexer": "ipython3",
   "version": "3.8.8"
  }
 },
 "nbformat": 4,
 "nbformat_minor": 5
}
