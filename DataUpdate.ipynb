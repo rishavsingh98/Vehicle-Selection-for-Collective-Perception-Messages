{
 "cells": [
  {
   "cell_type": "code",
   "execution_count": 2,
   "id": "ac577e2d",
   "metadata": {},
   "outputs": [],
   "source": [
    "import random\n",
    "import math\n",
    "import json"
   ]
  },
  {
   "cell_type": "code",
   "execution_count": 2,
   "id": "404ac97e",
   "metadata": {},
   "outputs": [],
   "source": [
    "def updateVehicle(n, d, dataset):   \n",
    "    Xmin, Xmax = 0, 250\n",
    "    Ymin1, Ymax1, Ymin2, Ymax2 = 150, 200, 0, 350\n",
    "    for i in range(n):\n",
    "        filename = dataset + \"/v\" + str(i) + \"config.json\"\n",
    "        file = open(filename)\n",
    "        data = json.load(file)\n",
    "        file.close()\n",
    "        x = data['vehicle']['x_coordinate']\n",
    "        y = data['vehicle']['y_coordinate']\n",
    "        dx = random.randint(max(Xmin, x - d), min(Xmax, x + d))\n",
    "        if dx >= 100 and dx <= 150:\n",
    "            dy = random.randint(max(Ymin2, y - d), min(Ymax2, y + d))\n",
    "        else:\n",
    "            dy = random.randint(max(Ymin1, y - d), min(Ymax1, y + d))\n",
    "        data['vehicle']['x_coordinate'] = dx\n",
    "        data['vehicle']['y_coordinate'] = dy\n",
    "        \n",
    "#         vx = data[\"vehicle\"][\"x_coordinate\"]\n",
    "#         vy = data[\"vehicle\"][\"y_coordinate\"]\n",
    "#         vr = data[\"vehicle\"][\"radius\"]\n",
    "\n",
    "#         objectdetails[\"x_coordinate\"] = xcood\n",
    "#         objectdetails[\"y_coordinate\"] = ycood\n",
    "        \n",
    "        \n",
    "        file = open(filename, 'w')\n",
    "        json.dump(data, file)\n",
    "        file.close()"
   ]
  },
  {
   "cell_type": "code",
   "execution_count": null,
   "id": "92afacbd",
   "metadata": {},
   "outputs": [],
   "source": []
  }
 ],
 "metadata": {
  "kernelspec": {
   "display_name": "Python 3",
   "language": "python",
   "name": "python3"
  },
  "language_info": {
   "codemirror_mode": {
    "name": "ipython",
    "version": 3
   },
   "file_extension": ".py",
   "mimetype": "text/x-python",
   "name": "python",
   "nbconvert_exporter": "python",
   "pygments_lexer": "ipython3",
   "version": "3.8.8"
  }
 },
 "nbformat": 4,
 "nbformat_minor": 5
}
