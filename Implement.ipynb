{
 "cells": [
  {
   "cell_type": "code",
   "execution_count": 1,
   "id": "3621bc44",
   "metadata": {},
   "outputs": [],
   "source": [
    "import os\n",
    "import random\n",
    "import json\n",
    "import pandas as pd\n",
    "import glob\n",
    "import math\n",
    "import numpy\n",
    "from collections import defaultdict"
   ]
  },
  {
   "cell_type": "code",
   "execution_count": 2,
   "id": "1322b699",
   "metadata": {},
   "outputs": [],
   "source": [
    "from ipynb.fs.full. Model import *"
   ]
  },
  {
   "cell_type": "code",
   "execution_count": 4,
   "id": "24662a49",
   "metadata": {},
   "outputs": [],
   "source": [
    "def implementModel(delta, path):\n",
    "    \n",
    "    vehicle_list, object_list = getData(path)\n",
    "    vehicle_df, object_df, nObjects = getDf(vehicle_list, object_list)\n",
    "    coverage = calcObjectCoverage(vehicle_df, object_df, nObjects)\n",
    "    #remove\n",
    "    initialLoad = 0#loadCalculator(set(vehicle_df['Id']),coverage, object_df)\n",
    "    leftVehicle = NoOfObjects(vehicle_df, object_df, coverage)\n",
    "    optimisedSet, objectSet = greedyAppx(leftVehicle, delta)\n",
    "    finalLoad = 0#loadCalculator(optimisedSet, coverage, object_df)\n",
    "    \n",
    "    return vehicle_df, object_df, coverage, initialLoad, finalLoad, optimisedSet, objectSet"
   ]
  },
  {
   "cell_type": "code",
   "execution_count": 2,
   "id": "41d0c92a",
   "metadata": {},
   "outputs": [],
   "source": [
    "def getStats(optimisedSet, objectSet, vehicle_df, object_df):\n",
    "    \n",
    "    uncovered_objects, optimised_coordinates, covered_objects = [], [], []\n",
    "    for index in vehicle_df.index:\n",
    "        if vehicle_df.iloc[index][\"Id\"] in list(optimisedSet):\n",
    "            optimised_coordinates.append([vehicle_df.iloc[index][\"x_coordinate\"], vehicle_df.iloc[index][\"y_coordinate\"], vehicle_df.iloc[index][\"radius\"]])\n",
    "\n",
    "    for index in object_df.index:\n",
    "        if object_df.iloc[index][\"Id\"] in list(objectSet):\n",
    "            covered_objects.append([object_df.iloc[index][\"x_coordinate\"], object_df.iloc[index][\"y_coordinate\"]])\n",
    "        else:\n",
    "            uncovered_objects.append([object_df.iloc[index][\"x_coordinate\"], object_df.iloc[index][\"y_coordinate\"]])\n",
    "    vehicle_coordinates = vehicle_df[[\"x_coordinate\", \"y_coordinate\"]].values.tolist()\n",
    "    \n",
    "    return uncovered_objects, covered_objects, optimised_coordinates, vehicle_coordinates"
   ]
  },
  {
   "cell_type": "code",
   "execution_count": 3,
   "id": "e5afe834",
   "metadata": {},
   "outputs": [],
   "source": [
    "def plot(uncovered_objects, covered_objects, optimised_coordinates, vehicle_coordinates):\n",
    "    from matplotlib import pyplot as plt, patches\n",
    "\n",
    "    fig = plt.figure(figsize=(15,10))\n",
    "\n",
    "    for p, q in vehicle_coordinates:\n",
    "        plt.scatter(p, q, color=\"green\")\n",
    "\n",
    "    for x,y,r in optimised_coordinates:\n",
    "        ax = fig.add_subplot()\n",
    "        plt.scatter(x, y, color=\"red\")\n",
    "        ax.add_patch(patches.Circle((x, y), radius=r, color='blue', fill=False))\n",
    "\n",
    "    for p, q in uncovered_objects:\n",
    "        plt.scatter(p, q, color=\"black\", marker = \"v\")\n",
    "\n",
    "    for p, q in covered_objects:\n",
    "        plt.scatter(p, q, color=\"orange\", marker = \"x\")\n",
    "\n",
    "    x = [1, 100, 100]\n",
    "    y = [200, 200, 350]\n",
    "    plt.plot(x, y, color = \"grey\")\n",
    "    x = [150, 150, 250]\n",
    "    y = [350, 200, 200]\n",
    "    plt.plot(x, y, color = \"grey\")\n",
    "    x = [1, 100, 100]\n",
    "    y = [150, 150, 0]\n",
    "    plt.plot(x, y, color = \"grey\")\n",
    "    x = [150, 150, 250]\n",
    "    y = [0, 150, 150]\n",
    "    plt.plot(x, y, color = \"grey\")\n",
    "\n",
    "    ax.axis('equal')\n",
    "    plt.show()"
   ]
  }
 ],
 "metadata": {
  "kernelspec": {
   "display_name": "Python 3",
   "language": "python",
   "name": "python3"
  },
  "language_info": {
   "codemirror_mode": {
    "name": "ipython",
    "version": 3
   },
   "file_extension": ".py",
   "mimetype": "text/x-python",
   "name": "python",
   "nbconvert_exporter": "python",
   "pygments_lexer": "ipython3",
   "version": "3.8.8"
  }
 },
 "nbformat": 4,
 "nbformat_minor": 5
}
