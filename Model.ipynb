{
 "cells": [
  {
   "cell_type": "code",
   "execution_count": 185,
   "id": "b9bd580c",
   "metadata": {},
   "outputs": [],
   "source": [
    "import os\n",
    "import random\n",
    "import json\n",
    "import pandas as pd\n",
    "import numpy as np\n",
    "import glob\n",
    "import math\n",
    "import numpy\n",
    "from collections import defaultdict"
   ]
  },
  {
   "cell_type": "code",
   "execution_count": 186,
   "id": "24d25aa4",
   "metadata": {},
   "outputs": [],
   "source": [
    "def getData(path):\n",
    "\n",
    "    files = glob.glob(path + '*.json', recursive=True)\n",
    "    vehicle_list, Object_list = [], []\n",
    "    ObjectCpm = []\n",
    "    nObjects = 0\n",
    "    for single_file in files:\n",
    "\n",
    "        f = open(single_file)\n",
    "        data = json.load(f)\n",
    "        vehicle_list.append(data['vehicle'])\n",
    "        for obj in data['Object']:\n",
    "            Object_list.append(obj)\n",
    "        f.close()\n",
    "\n",
    "    return vehicle_list, Object_list"
   ]
  },
  {
   "cell_type": "code",
   "execution_count": 187,
   "id": "e5aa5f9c",
   "metadata": {},
   "outputs": [],
   "source": [
    "def getDf(vehicles_list, object_list):\n",
    "    \n",
    "    vehicle_df = pd.DataFrame(vehicles_list)\n",
    "    object_df = pd.DataFrame([object_list[0]])\n",
    "    nObjects = int(object_list[0]['Id'][1:])\n",
    "    for obj_dict in object_list:\n",
    "        value = obj_dict['Id']\n",
    "        nObjects = max(nObjects, int(obj_dict['Id'][1:]))\n",
    "        Temp_df = pd.DataFrame()\n",
    "        Temp_df = object_df.loc[ (object_df['Id'] == value)]\n",
    "        v = obj_dict['timestamp']\n",
    "        if(Temp_df.empty):\n",
    "            object_df = object_df.append(obj_dict,ignore_index=True)\n",
    "\n",
    "        else:\n",
    "            if(Temp_df['timestamp'].iloc[0] < v):\n",
    "                object_df.loc[object_df['Id'] == obj_dict['Id']] = [pd.Series(obj_dict)]\n",
    "            else:\n",
    "                continue\n",
    "\n",
    "    return vehicle_df, object_df, nObjects"
   ]
  },
  {
   "cell_type": "code",
   "execution_count": 188,
   "id": "26844340",
   "metadata": {},
   "outputs": [],
   "source": [
    "def loadCalculator(optimisedSet, coverage, object_df):\n",
    "    load = 0\n",
    "    objectSize = {'person':15, 'obstruction': 20}\n",
    "    for x in optimisedSet:\n",
    "        i = int(x[1])\n",
    "        for col in range(len(coverage[i])):\n",
    "            if coverage[i][col]:\n",
    "                load += objectSize[object_df.loc[object_df['Id'] == str('o'+ str(i))]['type'].values[0]]\n",
    "    return load"
   ]
  },
  {
   "cell_type": "code",
   "execution_count": 189,
   "id": "32a7b1b1",
   "metadata": {},
   "outputs": [],
   "source": [
    "def calcObjectCoverage(vehicle_df, object_df, nObjects):\n",
    "    vehicles, objects = vehicle_df.shape[0], nObjects+1\n",
    "    coverage = []\n",
    "    \n",
    "    for v in range(vehicles):\n",
    "        temp_cov = []\n",
    "        temp_vdf = vehicle_df.loc[vehicle_df['Id'] == str('v' + str(v))]\n",
    "        \n",
    "        V_xcoord = int(temp_vdf['x_coordinate'].values[0])\n",
    "        V_ycoord = int(temp_vdf['y_coordinate'].values[0])\n",
    "        V_radius = float(temp_vdf['radius'].values[0])\n",
    "\n",
    "        for o in range(objects):\n",
    "            temp_odf = object_df.loc[object_df['Id'] == str('o' + str(o))]\n",
    "            \n",
    "            if temp_odf.empty:\n",
    "                temp_cov.append(False)\n",
    "                continue\n",
    "\n",
    "            O_xcoord = int(temp_odf['x_coordinate'].values[0])\n",
    "            O_ycoord = int(temp_odf['y_coordinate'].values[0])\n",
    "    \n",
    "            euclidDist = math.sqrt(math.pow((V_xcoord - O_xcoord),2) + math.pow((V_ycoord - O_ycoord),2))\n",
    "\n",
    "            if(euclidDist < (V_radius)):\n",
    "                temp_cov.append(True)\n",
    "            else:\n",
    "                temp_cov.append(False)\n",
    "\n",
    "        coverage.append(temp_cov)\n",
    "    \n",
    "    return coverage"
   ]
  },
  {
   "cell_type": "code",
   "execution_count": 190,
   "id": "f1f3c3ff",
   "metadata": {},
   "outputs": [],
   "source": [
    "#Submodular function\n",
    "def NoOfObjects(vehicle_df, object_df, coverage):\n",
    "    leftVehicle = defaultdict(set)\n",
    "    for i in range(len(vehicle_df)):\n",
    "        key = vehicle_df.loc[i, \"Id\"]\n",
    "        ind = int(str(key)[1:])\n",
    "        vSet = set()\n",
    "        for i in range(len(coverage[ind])):\n",
    "            if coverage[ind][i]:\n",
    "                vSet.add(str('o'+str(i)))\n",
    "        leftVehicle[key] = vSet\n",
    "    return leftVehicle"
   ]
  },
  {
   "cell_type": "code",
   "execution_count": 191,
   "id": "6dceab68",
   "metadata": {},
   "outputs": [],
   "source": [
    "#Marginal Gain\n",
    "def getMarginalGain(objectSet, leftVehicle, delta):\n",
    "    maxSize = delta-1\n",
    "    selectedV = None\n",
    "    for v in leftVehicle:\n",
    "        s = len(leftVehicle[v].difference(objectSet))\n",
    "        if s > maxSize:\n",
    "            maxSize = s\n",
    "            selectedV = v\n",
    "    if maxSize <= delta:\n",
    "        return objectSet, leftVehicle, None\n",
    "    else:\n",
    "        objectSet = objectSet.union(leftVehicle[selectedV])\n",
    "        leftVehicle.pop(selectedV)\n",
    "        return objectSet, leftVehicle, selectedV"
   ]
  },
  {
   "cell_type": "code",
   "execution_count": 192,
   "id": "01d398a2",
   "metadata": {},
   "outputs": [],
   "source": [
    "#Greedy Appoximation\n",
    "def greedyAppx(leftVehicle, delta):\n",
    "    optimisedSet = set()\n",
    "    objectSet = set()\n",
    "    flag = True\n",
    "    while flag:\n",
    "        objectSet, leftVehicle, v = getMarginalGain(objectSet, leftVehicle, delta)\n",
    "        if not v:\n",
    "            flag = False\n",
    "        else:\n",
    "            optimisedSet.add(v)\n",
    "    return optimisedSet, objectSet"
   ]
  }
 ],
 "metadata": {
  "kernelspec": {
   "display_name": "Python 3",
   "language": "python",
   "name": "python3"
  },
  "language_info": {
   "codemirror_mode": {
    "name": "ipython",
    "version": 3
   },
   "file_extension": ".py",
   "mimetype": "text/x-python",
   "name": "python",
   "nbconvert_exporter": "python",
   "pygments_lexer": "ipython3",
   "version": "3.8.8"
  }
 },
 "nbformat": 4,
 "nbformat_minor": 5
}
